{
 "cells": [
  {
   "cell_type": "code",
   "execution_count": 1,
   "metadata": {},
   "outputs": [],
   "source": [
    "import os\n",
    "import csv\n",
    "from sklearn.feature_extraction.text import TfidfVectorizer\n",
    "from sklearn.linear_model import LogisticRegression\n",
    "import codecs\n",
    "from os import path\n",
    "import csv\n",
    "import networkx as nx\n",
    "import numpy as np\n",
    "from sklearn.linear_model import LogisticRegression\n",
    "from tqdm import tqdm\n",
    "from utils import get_raw_data, dump_prediction\n",
    "from gensim.parsing.preprocessing import preprocess_documents\n",
    "import unicodedata"
   ]
  },
  {
   "cell_type": "code",
   "execution_count": 2,
   "metadata": {},
   "outputs": [
    {
     "name": "stderr",
     "output_type": "stream",
     "text": [
      "100%|███████████████████████████████████████████████████████████████████████████████| 2125/2125 [00:00<00:00, 531668.81it/s]\n",
      "100%|████████████████████████████████████████████████████████████████████████████████| 28003/28003 [00:30<00:00, 931.24it/s]\n",
      "100%|███████████████████████████████████████████████████████████████████████████████| 2125/2125 [00:00<00:00, 531668.81it/s]\n",
      "100%|█████████████████████████████████████████████████████████████████████████████████| 560/560 [00:00<00:00, 560709.06it/s]\n"
     ]
    }
   ],
   "source": [
    "train_data, test_data, y_train, G, train_hosts, tests_hosts  = get_raw_data(encoding='utf-8', errors=\"ignore\")"
   ]
  },
  {
   "cell_type": "code",
   "execution_count": 7,
   "metadata": {},
   "outputs": [
    {
     "name": "stderr",
     "output_type": "stream",
     "text": [
      "100%|███████████████████████████████████████████████████████████████████████████████████| 2125/2125 [01:35<00:00, 22.21it/s]\n"
     ]
    }
   ],
   "source": [
    "from tqdm import tqdm\n",
    "distances = np.empty((len(train_hosts), len(tests_hosts)))\n",
    "for cls_idx, cls_node in enumerate(tqdm(train_hosts)):\n",
    "    for tes_idx, tes_node in enumerate(tests_hosts):\n",
    "        try:\n",
    "            distances[cls_idx, tes_idx] = nx.shortest_path_length(\n",
    "                G, source=cls_node, target=tes_node)\n",
    "        except nx.NetworkXNoPath:\n",
    "            distances[cls_idx, tes_idx] = np.inf"
   ]
  },
  {
   "cell_type": "code",
   "execution_count": 13,
   "metadata": {},
   "outputs": [
    {
     "name": "stderr",
     "output_type": "stream",
     "text": [
      "100%|███████████████████████████████████████████████████████████████████████████████████| 2125/2125 [03:19<00:00, 10.68it/s]\n"
     ]
    }
   ],
   "source": [
    "undirected_G = G.to_undirected()\n",
    "distances_undirected = np.empty((len(train_hosts), len(tests_hosts)))\n",
    "for cls_idx, cls_node in enumerate(tqdm(train_hosts)):\n",
    "    for tes_idx, tes_node in enumerate(tests_hosts):\n",
    "        distances_undirected[cls_idx, tes_idx] = nx.shortest_path_length(\n",
    "            undirected_G, source=cls_node, target=tes_node)"
   ]
  },
  {
   "cell_type": "code",
   "execution_count": 8,
   "metadata": {},
   "outputs": [
    {
     "data": {
      "text/plain": [
       "array([[inf, inf, inf, ..., inf, inf, inf],\n",
       "       [inf, inf, inf, ..., inf, inf, inf],\n",
       "       [inf, inf, inf, ..., inf, inf, inf],\n",
       "       ...,\n",
       "       [inf, inf, inf, ..., inf, inf, inf],\n",
       "       [inf, inf, inf, ..., inf, inf, inf],\n",
       "       [ 2.,  3.,  2., ...,  2.,  2.,  3.]])"
      ]
     },
     "execution_count": 8,
     "metadata": {},
     "output_type": "execute_result"
    }
   ],
   "source": [
    "distances"
   ]
  },
  {
   "cell_type": "code",
   "execution_count": 18,
   "metadata": {},
   "outputs": [
    {
     "data": {
      "text/plain": [
       "array([1., 2., 1., ..., 1., 1., 1.])"
      ]
     },
     "execution_count": 18,
     "metadata": {},
     "output_type": "execute_result"
    }
   ],
   "source": [
    "np.min(distances_undirected, axis=1)"
   ]
  },
  {
   "cell_type": "code",
   "execution_count": 16,
   "metadata": {},
   "outputs": [
    {
     "data": {
      "text/plain": [
       "(2125, 560)"
      ]
     },
     "execution_count": 16,
     "metadata": {},
     "output_type": "execute_result"
    }
   ],
   "source": [
    "distances_undirected.shape"
   ]
  },
  {
   "cell_type": "code",
   "execution_count": 19,
   "metadata": {},
   "outputs": [
    {
     "data": {
      "text/plain": [
       "28002"
      ]
     },
     "execution_count": 19,
     "metadata": {},
     "output_type": "execute_result"
    }
   ],
   "source": [
    "len(G.nodes())"
   ]
  },
  {
   "cell_type": "code",
   "execution_count": 27,
   "metadata": {},
   "outputs": [
    {
     "data": {
      "text/plain": [
       "Counter({'health/medical': 92,\n",
       "         'entertainment': 579,\n",
       "         'education/research': 209,\n",
       "         'tech/science': 290,\n",
       "         'politics/government/law': 200,\n",
       "         'news/press': 83,\n",
       "         'sports': 46,\n",
       "         'business/finance': 626})"
      ]
     },
     "execution_count": 27,
     "metadata": {},
     "output_type": "execute_result"
    }
   ],
   "source": [
    "from collections import Counter\n",
    "Counter(y_train)"
   ]
  },
  {
   "cell_type": "code",
   "execution_count": 25,
   "metadata": {},
   "outputs": [
    {
     "data": {
      "text/plain": [
       "(array([6.50770e+05, 1.65900e+03, 3.84120e+04, 2.92483e+05, 1.10493e+05,\n",
       "        5.75960e+04, 3.30080e+04, 4.15800e+03, 9.95000e+02, 4.26000e+02]),\n",
       " array([-1. ,  0.3,  1.6,  2.9,  4.2,  5.5,  6.8,  8.1,  9.4, 10.7, 12. ]),\n",
       " <a list of 10 Patch objects>)"
      ]
     },
     "execution_count": 25,
     "metadata": {},
     "output_type": "execute_result"
    },
    {
     "data": {
      "image/png": "[encoded data removed]",
      "text/plain": [
       "<Figure size 432x288 with 1 Axes>"
      ]
     },
     "metadata": {
      "needs_background": "light"
     },
     "output_type": "display_data"
    }
   ],
   "source": [
    "import matplotlib.pyplot as plt\n",
    "distances[distances==np.inf] = -1\n",
    "plt.hist(distances.ravel())"
   ]
  },
  {
   "cell_type": "code",
   "execution_count": 26,
   "metadata": {},
   "outputs": [
    {
     "data": {
      "text/plain": [
       "(array([3.93700e+03, 3.55873e+05, 0.00000e+00, 6.99099e+05, 0.00000e+00,\n",
       "        1.26625e+05, 4.30400e+03, 0.00000e+00, 1.59000e+02, 3.00000e+00]),\n",
       " array([1. , 1.6, 2.2, 2.8, 3.4, 4. , 4.6, 5.2, 5.8, 6.4, 7. ]),\n",
       " <a list of 10 Patch objects>)"
      ]
     },
     "execution_count": 26,
     "metadata": {},
     "output_type": "execute_result"
    },
    {
     "data": {
      "image/png": "[encoded data removed]",
      "text/plain": [
       "<Figure size 432x288 with 1 Axes>"
      ]
     },
     "metadata": {
      "needs_background": "light"
     },
     "output_type": "display_data"
    }
   ],
   "source": [
    "import matplotlib.pyplot as plt\n",
    "distances_undirected[distances_undirected==np.inf] = -1\n",
    "plt.hist(distances_undirected.ravel())"
   ]
  },
  {
   "cell_type": "code",
   "execution_count": null,
   "metadata": {},
   "outputs": [],
   "source": []
  }
 ],
 "metadata": {
  "kernelspec": {
   "display_name": "Python 3",
   "language": "python",
   "name": "python3"
  },
  "language_info": {
   "codemirror_mode": {
    "name": "ipython",
    "version": 3
   },
   "file_extension": ".py",
   "mimetype": "text/x-python",
   "name": "python",
   "nbconvert_exporter": "python",
   "pygments_lexer": "ipython3",
   "version": "3.7.4"
  }
 },
 "nbformat": 4,
 "nbformat_minor": 4
}
