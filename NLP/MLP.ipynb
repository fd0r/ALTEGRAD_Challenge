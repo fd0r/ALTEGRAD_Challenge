{
 "cells": [
  {
   "cell_type": "code",
   "execution_count": 1,
   "metadata": {},
   "outputs": [],
   "source": [
    "from utils import get_raw_data"
   ]
  },
  {
   "cell_type": "code",
   "execution_count": 2,
   "metadata": {},
   "outputs": [
    {
     "name": "stderr",
     "output_type": "stream",
     "text": [
      "100%|███████████████████████████████████████████████████████████████████████████████| 2125/2125 [00:00<00:00, 709004.53it/s]\n",
      "100%|███████████████████████████████████████████████████████████████████████████████| 28003/28003 [00:23<00:00, 1212.35it/s]\n",
      "100%|███████████████████████████████████████████████████████████████████████████████| 2125/2125 [00:00<00:00, 709343.10it/s]\n",
      "100%|█████████████████████████████████████████████████████████████████████████████████| 560/560 [00:00<00:00, 560976.89it/s]\n"
     ]
    }
   ],
   "source": [
    "train_data, test_data, y_train, G, train_hosts, test_hosts = get_raw_data(encoding=\"utf-8\")"
   ]
  },
  {
   "cell_type": "code",
   "execution_count": 3,
   "metadata": {},
   "outputs": [],
   "source": [
    "import numpy as np\n",
    "from sklearn.model_selection import train_test_split\n",
    "idx_train, idx_valid = train_test_split(np.arange(len(train_data)), stratify=y_train, test_size=.15)\n",
    "train = [train_data[idx] for idx in idx_train]\n",
    "valid = [train_data[idx] for idx in idx_valid]"
   ]
  },
  {
   "cell_type": "code",
   "execution_count": 28,
   "metadata": {},
   "outputs": [],
   "source": [
    "import keras\n",
    "max_words = 10000\n",
    "tokenize = keras.preprocessing.text.Tokenizer(num_words=max_words, \n",
    "                                              char_level=False)\n",
    "tokenize.fit_on_texts(train_data) # fit tokenizer to our training text data\n",
    "x_train = tokenize.texts_to_matrix(train)\n",
    "x_valid = tokenize.texts_to_matrix(valid)"
   ]
  },
  {
   "cell_type": "code",
   "execution_count": 29,
   "metadata": {},
   "outputs": [
    {
     "name": "stdout",
     "output_type": "stream",
     "text": [
      "(2125,)\n"
     ]
    }
   ],
   "source": [
    "from sklearn.preprocessing import LabelEncoder, OneHotEncoder\n",
    "label_encoder = LabelEncoder()\n",
    "labels = label_encoder.fit_transform(y_train)\n",
    "print(labels.shape)\n",
    "onehot_enc = OneHotEncoder()\n",
    "labels = onehot_enc.fit_transform(labels.reshape(-1, 1))\n",
    "train_labels = labels[idx_train]\n",
    "valid_labels = labels[idx_valid]"
   ]
  },
  {
   "cell_type": "code",
   "execution_count": 30,
   "metadata": {},
   "outputs": [],
   "source": [
    "num_classes = labels.shape[1]"
   ]
  },
  {
   "cell_type": "code",
   "execution_count": 31,
   "metadata": {},
   "outputs": [
    {
     "name": "stdout",
     "output_type": "stream",
     "text": [
      "Train on 1625 samples, validate on 181 samples\n",
      "Epoch 1/10\n",
      "1625/1625 [==============================] - ETA: 12s - loss: 2.1352 - accuracy: 0.093 - ETA: 8s - loss: 2.3627 - accuracy: 0.140 - ETA: 7s - loss: 2.5032 - accuracy: 0.16 - ETA: 6s - loss: 2.3659 - accuracy: 0.21 - ETA: 5s - loss: 2.2157 - accuracy: 0.25 - ETA: 5s - loss: 2.1322 - accuracy: 0.29 - ETA: 5s - loss: 2.1419 - accuracy: 0.29 - ETA: 5s - loss: 2.1047 - accuracy: 0.30 - ETA: 4s - loss: 2.0746 - accuracy: 0.30 - ETA: 4s - loss: 2.0631 - accuracy: 0.30 - ETA: 4s - loss: 2.0586 - accuracy: 0.30 - ETA: 4s - loss: 2.0311 - accuracy: 0.31 - ETA: 4s - loss: 2.0264 - accuracy: 0.32 - ETA: 4s - loss: 2.0157 - accuracy: 0.32 - ETA: 4s - loss: 1.9896 - accuracy: 0.33 - ETA: 3s - loss: 1.9681 - accuracy: 0.33 - ETA: 3s - loss: 1.9625 - accuracy: 0.33 - ETA: 3s - loss: 1.9419 - accuracy: 0.34 - ETA: 3s - loss: 1.9218 - accuracy: 0.35 - ETA: 3s - loss: 1.9136 - accuracy: 0.35 - ETA: 3s - loss: 1.9024 - accuracy: 0.35 - ETA: 3s - loss: 1.8969 - accuracy: 0.35 - ETA: 3s - loss: 1.8802 - accuracy: 0.36 - ETA: 2s - loss: 1.8708 - accuracy: 0.37 - ETA: 2s - loss: 1.8602 - accuracy: 0.37 - ETA: 2s - loss: 1.8690 - accuracy: 0.37 - ETA: 2s - loss: 1.8538 - accuracy: 0.37 - ETA: 2s - loss: 1.8469 - accuracy: 0.37 - ETA: 2s - loss: 1.8447 - accuracy: 0.37 - ETA: 2s - loss: 1.8348 - accuracy: 0.37 - ETA: 2s - loss: 1.8298 - accuracy: 0.37 - ETA: 2s - loss: 1.8453 - accuracy: 0.37 - ETA: 1s - loss: 1.8281 - accuracy: 0.38 - ETA: 1s - loss: 1.8355 - accuracy: 0.38 - ETA: 1s - loss: 1.8197 - accuracy: 0.38 - ETA: 1s - loss: 1.8151 - accuracy: 0.38 - ETA: 1s - loss: 1.8029 - accuracy: 0.38 - ETA: 1s - loss: 1.7932 - accuracy: 0.38 - ETA: 1s - loss: 1.7874 - accuracy: 0.39 - ETA: 1s - loss: 1.7775 - accuracy: 0.39 - ETA: 1s - loss: 1.7706 - accuracy: 0.39 - ETA: 0s - loss: 1.7666 - accuracy: 0.39 - ETA: 0s - loss: 1.7471 - accuracy: 0.40 - ETA: 0s - loss: 1.7431 - accuracy: 0.40 - ETA: 0s - loss: 1.7461 - accuracy: 0.40 - ETA: 0s - loss: 1.7444 - accuracy: 0.40 - ETA: 0s - loss: 1.7371 - accuracy: 0.40 - ETA: 0s - loss: 1.7269 - accuracy: 0.40 - ETA: 0s - loss: 1.7185 - accuracy: 0.40 - ETA: 0s - loss: 1.7151 - accuracy: 0.40 - 6s 4ms/step - loss: 1.7153 - accuracy: 0.4086 - val_loss: 1.4385 - val_accuracy: 0.4807\n",
      "Epoch 2/10\n",
      "1625/1625 [==============================] - ETA: 4s - loss: 0.9536 - accuracy: 0.56 - ETA: 4s - loss: 1.0014 - accuracy: 0.60 - ETA: 4s - loss: 0.9656 - accuracy: 0.64 - ETA: 4s - loss: 0.9282 - accuracy: 0.67 - ETA: 4s - loss: 0.9218 - accuracy: 0.66 - ETA: 4s - loss: 0.9734 - accuracy: 0.65 - ETA: 4s - loss: 0.9768 - accuracy: 0.65 - ETA: 4s - loss: 0.9635 - accuracy: 0.66 - ETA: 4s - loss: 0.9533 - accuracy: 0.67 - ETA: 3s - loss: 0.9371 - accuracy: 0.67 - ETA: 3s - loss: 0.9545 - accuracy: 0.66 - ETA: 3s - loss: 0.9509 - accuracy: 0.67 - ETA: 3s - loss: 0.9818 - accuracy: 0.66 - ETA: 3s - loss: 0.9751 - accuracy: 0.66 - ETA: 3s - loss: 0.9502 - accuracy: 0.67 - ETA: 3s - loss: 0.9609 - accuracy: 0.66 - ETA: 3s - loss: 0.9427 - accuracy: 0.67 - ETA: 3s - loss: 0.9355 - accuracy: 0.68 - ETA: 3s - loss: 0.9639 - accuracy: 0.68 - ETA: 3s - loss: 0.9686 - accuracy: 0.67 - ETA: 2s - loss: 0.9930 - accuracy: 0.66 - ETA: 2s - loss: 1.0285 - accuracy: 0.65 - ETA: 2s - loss: 1.0347 - accuracy: 0.65 - ETA: 2s - loss: 1.0518 - accuracy: 0.65 - ETA: 2s - loss: 1.0593 - accuracy: 0.64 - ETA: 2s - loss: 1.0570 - accuracy: 0.65 - ETA: 2s - loss: 1.0581 - accuracy: 0.65 - ETA: 2s - loss: 1.0666 - accuracy: 0.65 - ETA: 2s - loss: 1.0738 - accuracy: 0.64 - ETA: 2s - loss: 1.0763 - accuracy: 0.64 - ETA: 1s - loss: 1.0758 - accuracy: 0.64 - ETA: 1s - loss: 1.0722 - accuracy: 0.64 - ETA: 1s - loss: 1.0738 - accuracy: 0.64 - ETA: 1s - loss: 1.0737 - accuracy: 0.64 - ETA: 1s - loss: 1.0690 - accuracy: 0.64 - ETA: 1s - loss: 1.0618 - accuracy: 0.64 - ETA: 1s - loss: 1.0618 - accuracy: 0.64 - ETA: 1s - loss: 1.0602 - accuracy: 0.64 - ETA: 1s - loss: 1.0692 - accuracy: 0.64 - ETA: 1s - loss: 1.0646 - accuracy: 0.64 - ETA: 0s - loss: 1.0586 - accuracy: 0.64 - ETA: 0s - loss: 1.0620 - accuracy: 0.64 - ETA: 0s - loss: 1.0600 - accuracy: 0.64 - ETA: 0s - loss: 1.0703 - accuracy: 0.64 - ETA: 0s - loss: 1.0630 - accuracy: 0.64 - ETA: 0s - loss: 1.0617 - accuracy: 0.64 - ETA: 0s - loss: 1.0622 - accuracy: 0.64 - ETA: 0s - loss: 1.0540 - accuracy: 0.64 - ETA: 0s - loss: 1.0517 - accuracy: 0.64 - ETA: 0s - loss: 1.0582 - accuracy: 0.64 - 5s 3ms/step - loss: 1.0637 - accuracy: 0.6425 - val_loss: 1.4510 - val_accuracy: 0.5746\n",
      "Epoch 3/10\n",
      "1625/1625 [==============================] - ETA: 4s - loss: 0.6405 - accuracy: 0.90 - ETA: 4s - loss: 0.6252 - accuracy: 0.84 - ETA: 4s - loss: 0.6754 - accuracy: 0.82 - ETA: 4s - loss: 0.6691 - accuracy: 0.78 - ETA: 4s - loss: 0.6641 - accuracy: 0.77 - ETA: 4s - loss: 0.6241 - accuracy: 0.78 - ETA: 4s - loss: 0.6068 - accuracy: 0.79 - ETA: 4s - loss: 0.5774 - accuracy: 0.80 - ETA: 4s - loss: 0.5585 - accuracy: 0.80 - ETA: 4s - loss: 0.5535 - accuracy: 0.81 - ETA: 4s - loss: 0.5799 - accuracy: 0.80 - ETA: 4s - loss: 0.6033 - accuracy: 0.80 - ETA: 4s - loss: 0.5886 - accuracy: 0.80 - ETA: 3s - loss: 0.5911 - accuracy: 0.80 - ETA: 3s - loss: 0.5894 - accuracy: 0.80 - ETA: 3s - loss: 0.5999 - accuracy: 0.80 - ETA: 3s - loss: 0.5960 - accuracy: 0.80 - ETA: 3s - loss: 0.5894 - accuracy: 0.80 - ETA: 3s - loss: 0.5912 - accuracy: 0.80 - ETA: 3s - loss: 0.5934 - accuracy: 0.80 - ETA: 3s - loss: 0.5895 - accuracy: 0.80 - ETA: 3s - loss: 0.5898 - accuracy: 0.80 - ETA: 2s - loss: 0.5952 - accuracy: 0.80 - ETA: 2s - loss: 0.5919 - accuracy: 0.80 - ETA: 2s - loss: 0.5835 - accuracy: 0.81 - ETA: 2s - loss: 0.5924 - accuracy: 0.80 - ETA: 2s - loss: 0.5845 - accuracy: 0.80 - ETA: 2s - loss: 0.5896 - accuracy: 0.80 - ETA: 2s - loss: 0.5808 - accuracy: 0.81 - ETA: 2s - loss: 0.5904 - accuracy: 0.81 - ETA: 2s - loss: 0.6057 - accuracy: 0.80 - ETA: 1s - loss: 0.6057 - accuracy: 0.80 - ETA: 1s - loss: 0.6090 - accuracy: 0.80 - ETA: 1s - loss: 0.6162 - accuracy: 0.80 - ETA: 1s - loss: 0.6165 - accuracy: 0.80 - ETA: 1s - loss: 0.6242 - accuracy: 0.80 - ETA: 1s - loss: 0.6214 - accuracy: 0.80 - ETA: 1s - loss: 0.6212 - accuracy: 0.80 - ETA: 1s - loss: 0.6166 - accuracy: 0.80 - ETA: 1s - loss: 0.6233 - accuracy: 0.80 - ETA: 1s - loss: 0.6233 - accuracy: 0.80 - ETA: 0s - loss: 0.6318 - accuracy: 0.80 - ETA: 0s - loss: 0.6450 - accuracy: 0.79 - ETA: 0s - loss: 0.6495 - accuracy: 0.79 - ETA: 0s - loss: 0.6670 - accuracy: 0.79 - ETA: 0s - loss: 0.6713 - accuracy: 0.79 - ETA: 0s - loss: 0.6691 - accuracy: 0.79 - ETA: 0s - loss: 0.6665 - accuracy: 0.79 - ETA: 0s - loss: 0.6940 - accuracy: 0.79 - ETA: 0s - loss: 0.6948 - accuracy: 0.79 - 5s 3ms/step - loss: 0.6996 - accuracy: 0.7914 - val_loss: 1.5352 - val_accuracy: 0.5470\n",
      "Epoch 4/10\n",
      "1625/1625 [==============================] - ETA: 4s - loss: 0.4651 - accuracy: 0.90 - ETA: 4s - loss: 0.3461 - accuracy: 0.92 - ETA: 4s - loss: 0.3569 - accuracy: 0.91 - ETA: 4s - loss: 0.3371 - accuracy: 0.92 - ETA: 4s - loss: 0.3275 - accuracy: 0.92 - ETA: 4s - loss: 0.3478 - accuracy: 0.92 - ETA: 4s - loss: 0.4174 - accuracy: 0.92 - ETA: 4s - loss: 0.3936 - accuracy: 0.92 - ETA: 4s - loss: 0.4047 - accuracy: 0.91 - ETA: 4s - loss: 0.3947 - accuracy: 0.91 - ETA: 3s - loss: 0.3876 - accuracy: 0.92 - ETA: 3s - loss: 0.4314 - accuracy: 0.90 - ETA: 3s - loss: 0.4554 - accuracy: 0.90 - ETA: 3s - loss: 0.4866 - accuracy: 0.89 - ETA: 3s - loss: 0.4866 - accuracy: 0.89 - ETA: 3s - loss: 0.4910 - accuracy: 0.88 - ETA: 3s - loss: 0.5138 - accuracy: 0.88 - ETA: 3s - loss: 0.4994 - accuracy: 0.88 - ETA: 3s - loss: 0.4863 - accuracy: 0.88 - ETA: 3s - loss: 0.4936 - accuracy: 0.88 - ETA: 2s - loss: 0.4991 - accuracy: 0.88 - ETA: 2s - loss: 0.4920 - accuracy: 0.88 - ETA: 2s - loss: 0.4874 - accuracy: 0.88 - ETA: 2s - loss: 0.4834 - accuracy: 0.88 - ETA: 2s - loss: 0.4739 - accuracy: 0.88 - ETA: 2s - loss: 0.4694 - accuracy: 0.88 - ETA: 2s - loss: 0.4589 - accuracy: 0.88 - ETA: 2s - loss: 0.4505 - accuracy: 0.88 - ETA: 2s - loss: 0.4658 - accuracy: 0.88 - ETA: 2s - loss: 0.4729 - accuracy: 0.88 - ETA: 1s - loss: 0.4678 - accuracy: 0.88 - ETA: 1s - loss: 0.4735 - accuracy: 0.88 - ETA: 1s - loss: 0.4996 - accuracy: 0.87 - ETA: 1s - loss: 0.4963 - accuracy: 0.87 - ETA: 1s - loss: 0.4919 - accuracy: 0.87 - ETA: 1s - loss: 0.4895 - accuracy: 0.87 - ETA: 1s - loss: 0.4879 - accuracy: 0.87 - ETA: 1s - loss: 0.4885 - accuracy: 0.87 - ETA: 1s - loss: 0.4921 - accuracy: 0.87 - ETA: 1s - loss: 0.4886 - accuracy: 0.87 - ETA: 0s - loss: 0.4967 - accuracy: 0.87 - ETA: 0s - loss: 0.4941 - accuracy: 0.87 - ETA: 0s - loss: 0.4947 - accuracy: 0.87 - ETA: 0s - loss: 0.4907 - accuracy: 0.87 - ETA: 0s - loss: 0.4867 - accuracy: 0.87 - ETA: 0s - loss: 0.4839 - accuracy: 0.87 - ETA: 0s - loss: 0.4790 - accuracy: 0.87 - ETA: 0s - loss: 0.4785 - accuracy: 0.87 - ETA: 0s - loss: 0.4731 - accuracy: 0.87 - ETA: 0s - loss: 0.4686 - accuracy: 0.87 - 5s 3ms/step - loss: 0.4676 - accuracy: 0.8757 - val_loss: 1.9035 - val_accuracy: 0.5249\n",
      "Epoch 5/10\n",
      "1625/1625 [==============================] - ETA: 4s - loss: 0.6787 - accuracy: 0.78 - ETA: 4s - loss: 0.9372 - accuracy: 0.81 - ETA: 4s - loss: 0.6943 - accuracy: 0.85 - ETA: 4s - loss: 0.5966 - accuracy: 0.87 - ETA: 4s - loss: 0.4954 - accuracy: 0.90 - ETA: 4s - loss: 0.5318 - accuracy: 0.89 - ETA: 4s - loss: 0.5100 - accuracy: 0.89 - ETA: 4s - loss: 0.5357 - accuracy: 0.88 - ETA: 4s - loss: 0.5031 - accuracy: 0.89 - ETA: 4s - loss: 0.4665 - accuracy: 0.90 - ETA: 4s - loss: 0.4431 - accuracy: 0.90 - ETA: 3s - loss: 0.4298 - accuracy: 0.90 - ETA: 3s - loss: 0.4823 - accuracy: 0.90 - ETA: 3s - loss: 0.4565 - accuracy: 0.90 - ETA: 3s - loss: 0.4368 - accuracy: 0.91 - ETA: 3s - loss: 0.4311 - accuracy: 0.90 - ETA: 3s - loss: 0.4306 - accuracy: 0.90 - ETA: 3s - loss: 0.4367 - accuracy: 0.89 - ETA: 3s - loss: 0.4525 - accuracy: 0.89 - ETA: 3s - loss: 0.4817 - accuracy: 0.88 - ETA: 3s - loss: 0.4708 - accuracy: 0.89 - ETA: 2s - loss: 0.5202 - accuracy: 0.89 - ETA: 2s - loss: 0.5284 - accuracy: 0.88 - ETA: 2s - loss: 0.5215 - accuracy: 0.88 - ETA: 2s - loss: 0.5184 - accuracy: 0.88 - ETA: 2s - loss: 0.5087 - accuracy: 0.88 - ETA: 2s - loss: 0.4975 - accuracy: 0.89 - ETA: 2s - loss: 0.4963 - accuracy: 0.89 - ETA: 2s - loss: 0.4963 - accuracy: 0.88 - ETA: 2s - loss: 0.4861 - accuracy: 0.88 - ETA: 2s - loss: 0.4753 - accuracy: 0.89 - ETA: 1s - loss: 0.4779 - accuracy: 0.89 - ETA: 1s - loss: 0.4791 - accuracy: 0.89 - ETA: 1s - loss: 0.4808 - accuracy: 0.89 - ETA: 1s - loss: 0.4860 - accuracy: 0.89 - ETA: 1s - loss: 0.4791 - accuracy: 0.89 - ETA: 1s - loss: 0.4817 - accuracy: 0.89 - ETA: 1s - loss: 0.4778 - accuracy: 0.89 - ETA: 1s - loss: 0.4717 - accuracy: 0.89 - ETA: 1s - loss: 0.4744 - accuracy: 0.89 - ETA: 0s - loss: 0.4753 - accuracy: 0.88 - ETA: 0s - loss: 0.4721 - accuracy: 0.88 - ETA: 0s - loss: 0.4674 - accuracy: 0.88 - ETA: 0s - loss: 0.4594 - accuracy: 0.89 - ETA: 0s - loss: 0.4540 - accuracy: 0.89 - ETA: 0s - loss: 0.4534 - accuracy: 0.89 - ETA: 0s - loss: 0.4540 - accuracy: 0.89 - ETA: 0s - loss: 0.4586 - accuracy: 0.89 - ETA: 0s - loss: 0.4559 - accuracy: 0.89 - ETA: 0s - loss: 0.4597 - accuracy: 0.89 - 5s 3ms/step - loss: 0.4637 - accuracy: 0.8886 - val_loss: 1.7455 - val_accuracy: 0.5304\n",
      "Epoch 6/10\n",
      "1625/1625 [==============================] - ETA: 4s - loss: 0.1316 - accuracy: 0.96 - ETA: 4s - loss: 0.1100 - accuracy: 0.98 - ETA: 4s - loss: 0.1805 - accuracy: 0.96 - ETA: 4s - loss: 0.1633 - accuracy: 0.96 - ETA: 4s - loss: 0.1540 - accuracy: 0.96 - ETA: 4s - loss: 0.2228 - accuracy: 0.93 - ETA: 4s - loss: 0.2264 - accuracy: 0.93 - ETA: 4s - loss: 0.2488 - accuracy: 0.92 - ETA: 4s - loss: 0.2486 - accuracy: 0.92 - ETA: 4s - loss: 0.2396 - accuracy: 0.92 - ETA: 3s - loss: 0.2524 - accuracy: 0.92 - ETA: 3s - loss: 0.2520 - accuracy: 0.92 - ETA: 3s - loss: 0.2642 - accuracy: 0.91 - ETA: 3s - loss: 0.2602 - accuracy: 0.91 - ETA: 3s - loss: 0.2516 - accuracy: 0.91 - ETA: 3s - loss: 0.2553 - accuracy: 0.91 - ETA: 3s - loss: 0.2644 - accuracy: 0.91 - ETA: 3s - loss: 0.2664 - accuracy: 0.91 - ETA: 3s - loss: 0.2623 - accuracy: 0.91 - ETA: 3s - loss: 0.2871 - accuracy: 0.91 - ETA: 2s - loss: 0.2836 - accuracy: 0.91 - ETA: 2s - loss: 0.3066 - accuracy: 0.91 - ETA: 2s - loss: 0.3140 - accuracy: 0.91 - ETA: 2s - loss: 0.3095 - accuracy: 0.91 - ETA: 2s - loss: 0.3037 - accuracy: 0.91 - ETA: 2s - loss: 0.3057 - accuracy: 0.91 - ETA: 2s - loss: 0.3156 - accuracy: 0.91 - ETA: 2s - loss: 0.3088 - accuracy: 0.91 - ETA: 2s - loss: 0.3244 - accuracy: 0.91 - ETA: 2s - loss: 0.3216 - accuracy: 0.91 - ETA: 1s - loss: 0.3279 - accuracy: 0.91 - ETA: 1s - loss: 0.3253 - accuracy: 0.91 - ETA: 1s - loss: 0.3170 - accuracy: 0.91 - ETA: 1s - loss: 0.3213 - accuracy: 0.91 - ETA: 1s - loss: 0.3152 - accuracy: 0.91 - ETA: 1s - loss: 0.3142 - accuracy: 0.91 - ETA: 1s - loss: 0.3257 - accuracy: 0.91 - ETA: 1s - loss: 0.3268 - accuracy: 0.91 - ETA: 1s - loss: 0.3250 - accuracy: 0.91 - ETA: 1s - loss: 0.3206 - accuracy: 0.91 - ETA: 0s - loss: 0.3160 - accuracy: 0.91 - ETA: 0s - loss: 0.3144 - accuracy: 0.91 - ETA: 0s - loss: 0.3127 - accuracy: 0.91 - ETA: 0s - loss: 0.3156 - accuracy: 0.91 - ETA: 0s - loss: 0.3139 - accuracy: 0.91 - ETA: 0s - loss: 0.3108 - accuracy: 0.91 - ETA: 0s - loss: 0.3083 - accuracy: 0.91 - ETA: 0s - loss: 0.3080 - accuracy: 0.91 - ETA: 0s - loss: 0.3096 - accuracy: 0.92 - ETA: 0s - loss: 0.3125 - accuracy: 0.92 - 5s 3ms/step - loss: 0.3140 - accuracy: 0.9206 - val_loss: 2.3249 - val_accuracy: 0.5138\n",
      "Epoch 7/10\n",
      "1625/1625 [==============================] - ETA: 4s - loss: 0.1931 - accuracy: 0.90 - ETA: 4s - loss: 0.2348 - accuracy: 0.90 - ETA: 4s - loss: 0.2230 - accuracy: 0.91 - ETA: 4s - loss: 0.2005 - accuracy: 0.92 - ETA: 4s - loss: 0.2523 - accuracy: 0.93 - ETA: 4s - loss: 0.2598 - accuracy: 0.93 - ETA: 4s - loss: 0.2505 - accuracy: 0.93 - ETA: 4s - loss: 0.2751 - accuracy: 0.92 - ETA: 4s - loss: 0.2490 - accuracy: 0.93 - ETA: 4s - loss: 0.2403 - accuracy: 0.93 - ETA: 4s - loss: 0.2323 - accuracy: 0.92 - ETA: 4s - loss: 0.2360 - accuracy: 0.92 - ETA: 3s - loss: 0.2617 - accuracy: 0.92 - ETA: 3s - loss: 0.2468 - accuracy: 0.93 - ETA: 3s - loss: 0.2459 - accuracy: 0.93 - ETA: 3s - loss: 0.2450 - accuracy: 0.93 - ETA: 3s - loss: 0.2541 - accuracy: 0.92 - ETA: 3s - loss: 0.2539 - accuracy: 0.92 - ETA: 3s - loss: 0.2526 - accuracy: 0.92 - ETA: 3s - loss: 0.2589 - accuracy: 0.91 - ETA: 3s - loss: 0.2524 - accuracy: 0.91 - ETA: 2s - loss: 0.2491 - accuracy: 0.92 - ETA: 2s - loss: 0.2481 - accuracy: 0.92 - ETA: 2s - loss: 0.2475 - accuracy: 0.92 - ETA: 2s - loss: 0.2397 - accuracy: 0.92 - ETA: 2s - loss: 0.2340 - accuracy: 0.92 - ETA: 2s - loss: 0.2324 - accuracy: 0.92 - ETA: 2s - loss: 0.2303 - accuracy: 0.92 - ETA: 2s - loss: 0.2411 - accuracy: 0.92 - ETA: 2s - loss: 0.2461 - accuracy: 0.92 - ETA: 2s - loss: 0.2429 - accuracy: 0.92 - ETA: 1s - loss: 0.2493 - accuracy: 0.92 - ETA: 1s - loss: 0.2487 - accuracy: 0.92 - ETA: 1s - loss: 0.2437 - accuracy: 0.92 - ETA: 1s - loss: 0.2485 - accuracy: 0.92 - ETA: 1s - loss: 0.2505 - accuracy: 0.92 - ETA: 1s - loss: 0.2481 - accuracy: 0.92 - ETA: 1s - loss: 0.2588 - accuracy: 0.92 - ETA: 1s - loss: 0.2545 - accuracy: 0.92 - ETA: 1s - loss: 0.2596 - accuracy: 0.92 - ETA: 1s - loss: 0.2561 - accuracy: 0.92 - ETA: 0s - loss: 0.2657 - accuracy: 0.92 - ETA: 0s - loss: 0.2718 - accuracy: 0.92 - ETA: 0s - loss: 0.2707 - accuracy: 0.92 - ETA: 0s - loss: 0.2755 - accuracy: 0.92 - ETA: 0s - loss: 0.2837 - accuracy: 0.92 - ETA: 0s - loss: 0.2835 - accuracy: 0.92 - ETA: 0s - loss: 0.2958 - accuracy: 0.92 - ETA: 0s - loss: 0.2934 - accuracy: 0.92 - ETA: 0s - loss: 0.2913 - accuracy: 0.92 - 5s 3ms/step - loss: 0.3002 - accuracy: 0.9237 - val_loss: 2.4199 - val_accuracy: 0.5580\n",
      "Epoch 8/10\n",
      "1625/1625 [==============================] - ETA: 4s - loss: 0.2352 - accuracy: 0.93 - ETA: 4s - loss: 0.2065 - accuracy: 0.92 - ETA: 4s - loss: 0.1790 - accuracy: 0.93 - ETA: 5s - loss: 0.1761 - accuracy: 0.94 - ETA: 5s - loss: 0.1875 - accuracy: 0.93 - ETA: 5s - loss: 0.1923 - accuracy: 0.93 - ETA: 4s - loss: 0.2111 - accuracy: 0.92 - ETA: 4s - loss: 0.2143 - accuracy: 0.92 - ETA: 4s - loss: 0.2117 - accuracy: 0.92 - ETA: 4s - loss: 0.2001 - accuracy: 0.93 - ETA: 4s - loss: 0.1919 - accuracy: 0.93 - ETA: 4s - loss: 0.2003 - accuracy: 0.92 - ETA: 4s - loss: 0.2065 - accuracy: 0.92 - ETA: 4s - loss: 0.2100 - accuracy: 0.91 - ETA: 3s - loss: 0.2042 - accuracy: 0.92 - ETA: 3s - loss: 0.2143 - accuracy: 0.91 - ETA: 3s - loss: 0.2274 - accuracy: 0.91 - ETA: 3s - loss: 0.2223 - accuracy: 0.92 - ETA: 3s - loss: 0.2255 - accuracy: 0.91 - ETA: 3s - loss: 0.2311 - accuracy: 0.92 - ETA: 3s - loss: 0.2328 - accuracy: 0.91 - ETA: 3s - loss: 0.2486 - accuracy: 0.91 - ETA: 3s - loss: 0.2520 - accuracy: 0.91 - ETA: 2s - loss: 0.2468 - accuracy: 0.91 - ETA: 2s - loss: 0.2564 - accuracy: 0.91 - ETA: 2s - loss: 0.2587 - accuracy: 0.90 - ETA: 2s - loss: 0.2526 - accuracy: 0.91 - ETA: 2s - loss: 0.2582 - accuracy: 0.91 - ETA: 2s - loss: 0.2532 - accuracy: 0.91 - ETA: 2s - loss: 0.2528 - accuracy: 0.91 - ETA: 2s - loss: 0.2496 - accuracy: 0.91 - ETA: 2s - loss: 0.2603 - accuracy: 0.91 - ETA: 2s - loss: 0.2736 - accuracy: 0.91 - ETA: 1s - loss: 0.2711 - accuracy: 0.91 - ETA: 1s - loss: 0.2695 - accuracy: 0.91 - ETA: 1s - loss: 0.2646 - accuracy: 0.91 - ETA: 1s - loss: 0.2684 - accuracy: 0.91 - ETA: 1s - loss: 0.2838 - accuracy: 0.90 - ETA: 1s - loss: 0.2859 - accuracy: 0.91 - ETA: 1s - loss: 0.2808 - accuracy: 0.91 - ETA: 1s - loss: 0.2842 - accuracy: 0.91 - ETA: 0s - loss: 0.2830 - accuracy: 0.91 - ETA: 0s - loss: 0.2820 - accuracy: 0.91 - ETA: 0s - loss: 0.2795 - accuracy: 0.91 - ETA: 0s - loss: 0.2793 - accuracy: 0.91 - ETA: 0s - loss: 0.2775 - accuracy: 0.91 - ETA: 0s - loss: 0.2906 - accuracy: 0.91 - ETA: 0s - loss: 0.2910 - accuracy: 0.91 - ETA: 0s - loss: 0.2941 - accuracy: 0.91 - ETA: 0s - loss: 0.2921 - accuracy: 0.91 - 6s 3ms/step - loss: 0.2895 - accuracy: 0.9157 - val_loss: 2.2277 - val_accuracy: 0.5580\n",
      "Epoch 9/10\n",
      "1625/1625 [==============================] - ETA: 4s - loss: 0.0785 - accuracy: 0.96 - ETA: 4s - loss: 0.5879 - accuracy: 0.89 - ETA: 4s - loss: 0.5078 - accuracy: 0.88 - ETA: 4s - loss: 0.4587 - accuracy: 0.89 - ETA: 4s - loss: 0.3793 - accuracy: 0.91 - ETA: 4s - loss: 0.3493 - accuracy: 0.91 - ETA: 4s - loss: 0.3213 - accuracy: 0.91 - ETA: 4s - loss: 0.2930 - accuracy: 0.92 - ETA: 4s - loss: 0.3075 - accuracy: 0.92 - ETA: 4s - loss: 0.3132 - accuracy: 0.92 - ETA: 4s - loss: 0.2983 - accuracy: 0.92 - ETA: 3s - loss: 0.2774 - accuracy: 0.92 - ETA: 3s - loss: 0.2673 - accuracy: 0.93 - ETA: 3s - loss: 0.2643 - accuracy: 0.93 - ETA: 3s - loss: 0.2626 - accuracy: 0.92 - ETA: 3s - loss: 0.2986 - accuracy: 0.91 - ETA: 3s - loss: 0.2920 - accuracy: 0.91 - ETA: 3s - loss: 0.3039 - accuracy: 0.91 - ETA: 3s - loss: 0.3020 - accuracy: 0.91 - ETA: 3s - loss: 0.2938 - accuracy: 0.91 - ETA: 3s - loss: 0.2910 - accuracy: 0.91 - ETA: 2s - loss: 0.3086 - accuracy: 0.91 - ETA: 2s - loss: 0.2988 - accuracy: 0.91 - ETA: 2s - loss: 0.3096 - accuracy: 0.91 - ETA: 2s - loss: 0.3203 - accuracy: 0.91 - ETA: 2s - loss: 0.3184 - accuracy: 0.90 - ETA: 2s - loss: 0.3076 - accuracy: 0.91 - ETA: 2s - loss: 0.3046 - accuracy: 0.91 - ETA: 2s - loss: 0.3023 - accuracy: 0.91 - ETA: 2s - loss: 0.3117 - accuracy: 0.91 - ETA: 2s - loss: 0.3111 - accuracy: 0.91 - ETA: 1s - loss: 0.3137 - accuracy: 0.91 - ETA: 1s - loss: 0.3254 - accuracy: 0.91 - ETA: 1s - loss: 0.3403 - accuracy: 0.90 - ETA: 1s - loss: 0.3380 - accuracy: 0.90 - ETA: 1s - loss: 0.3392 - accuracy: 0.90 - ETA: 1s - loss: 0.3409 - accuracy: 0.90 - ETA: 1s - loss: 0.3354 - accuracy: 0.90 - ETA: 1s - loss: 0.3314 - accuracy: 0.90 - ETA: 1s - loss: 0.3276 - accuracy: 0.91 - ETA: 1s - loss: 0.3410 - accuracy: 0.91 - ETA: 0s - loss: 0.3389 - accuracy: 0.91 - ETA: 0s - loss: 0.3327 - accuracy: 0.91 - ETA: 0s - loss: 0.3257 - accuracy: 0.91 - ETA: 0s - loss: 0.3200 - accuracy: 0.91 - ETA: 0s - loss: 0.3257 - accuracy: 0.91 - ETA: 0s - loss: 0.3217 - accuracy: 0.91 - ETA: 0s - loss: 0.3241 - accuracy: 0.91 - ETA: 0s - loss: 0.3194 - accuracy: 0.91 - ETA: 0s - loss: 0.3164 - accuracy: 0.91 - 5s 3ms/step - loss: 0.3125 - accuracy: 0.9188 - val_loss: 2.9534 - val_accuracy: 0.5580\n",
      "Epoch 10/10\n",
      "1625/1625 [==============================] - ETA: 5s - loss: 0.1313 - accuracy: 0.96 - ETA: 4s - loss: 0.1973 - accuracy: 0.93 - ETA: 4s - loss: 0.2450 - accuracy: 0.91 - ETA: 4s - loss: 0.2149 - accuracy: 0.92 - ETA: 4s - loss: 0.1881 - accuracy: 0.93 - ETA: 4s - loss: 0.1918 - accuracy: 0.94 - ETA: 4s - loss: 0.1888 - accuracy: 0.94 - ETA: 4s - loss: 0.2142 - accuracy: 0.93 - ETA: 4s - loss: 0.2857 - accuracy: 0.92 - ETA: 4s - loss: 0.2867 - accuracy: 0.93 - ETA: 4s - loss: 0.2890 - accuracy: 0.92 - ETA: 4s - loss: 0.2914 - accuracy: 0.91 - ETA: 4s - loss: 0.2729 - accuracy: 0.92 - ETA: 4s - loss: 0.2650 - accuracy: 0.92 - ETA: 3s - loss: 0.2540 - accuracy: 0.92 - ETA: 3s - loss: 0.2544 - accuracy: 0.92 - ETA: 3s - loss: 0.2555 - accuracy: 0.92 - ETA: 3s - loss: 0.2646 - accuracy: 0.92 - ETA: 3s - loss: 0.2711 - accuracy: 0.92 - ETA: 3s - loss: 0.2803 - accuracy: 0.91 - ETA: 3s - loss: 0.2709 - accuracy: 0.92 - ETA: 3s - loss: 0.2828 - accuracy: 0.91 - ETA: 3s - loss: 0.3009 - accuracy: 0.91 - ETA: 2s - loss: 0.3087 - accuracy: 0.91 - ETA: 2s - loss: 0.3035 - accuracy: 0.91 - ETA: 2s - loss: 0.3014 - accuracy: 0.91 - ETA: 2s - loss: 0.3024 - accuracy: 0.91 - ETA: 2s - loss: 0.2930 - accuracy: 0.91 - ETA: 2s - loss: 0.2883 - accuracy: 0.91 - ETA: 2s - loss: 0.2894 - accuracy: 0.91 - ETA: 2s - loss: 0.2876 - accuracy: 0.91 - ETA: 2s - loss: 0.4112 - accuracy: 0.91 - ETA: 1s - loss: 0.4157 - accuracy: 0.91 - ETA: 1s - loss: 0.4111 - accuracy: 0.91 - ETA: 1s - loss: 0.4241 - accuracy: 0.91 - ETA: 1s - loss: 0.4160 - accuracy: 0.91 - ETA: 1s - loss: 0.4130 - accuracy: 0.91 - ETA: 1s - loss: 0.4065 - accuracy: 0.91 - ETA: 1s - loss: 0.4104 - accuracy: 0.91 - ETA: 1s - loss: 0.4141 - accuracy: 0.91 - ETA: 1s - loss: 0.4164 - accuracy: 0.90 - ETA: 0s - loss: 0.4108 - accuracy: 0.90 - ETA: 0s - loss: 0.4053 - accuracy: 0.91 - ETA: 0s - loss: 0.4011 - accuracy: 0.90 - ETA: 0s - loss: 0.3954 - accuracy: 0.90 - ETA: 0s - loss: 0.3885 - accuracy: 0.91 - ETA: 0s - loss: 0.3818 - accuracy: 0.91 - ETA: 0s - loss: 0.3799 - accuracy: 0.91 - ETA: 0s - loss: 0.3753 - accuracy: 0.91 - ETA: 0s - loss: 0.3693 - accuracy: 0.91 - 6s 4ms/step - loss: 0.3648 - accuracy: 0.9169 - val_loss: 2.4050 - val_accuracy: 0.5414\n"
     ]
    }
   ],
   "source": [
    "from keras import models, layers\n",
    "# This model trains very quickly and 2 epochs are already more than enough\n",
    "# Training for more epochs will likely lead to overfitting on this dataset\n",
    "# You can try tweaking these hyperparamaters when using this model with your own data\n",
    "batch_size = 32\n",
    "epochs = 10\n",
    "drop_ratio = 0.3\n",
    "# Build the model\n",
    "model = models.Sequential()\n",
    "model.add(layers.Dense(512, input_shape=(max_words,)))\n",
    "model.add(layers.Dropout(drop_ratio))\n",
    "model.add(layers.Activation('relu'))\n",
    "model.add(layers.Dense(128, input_shape=(max_words,)))\n",
    "model.add(layers.Dropout(drop_ratio))\n",
    "model.add(layers.Activation('relu'))\n",
    "model.add(layers.Dense(num_classes))\n",
    "model.add(layers.Activation('softmax'))\n",
    "\n",
    "model.compile(loss='categorical_crossentropy',\n",
    "              optimizer=keras.optimizers.Nadam(learning_rate=0.002, beta_1=0.9, beta_2=0.999),\n",
    "              metrics=['accuracy'])\n",
    "history = model.fit(x_train, train_labels,\n",
    "                    batch_size=batch_size,\n",
    "                    epochs=epochs,\n",
    "                    verbose=1,\n",
    "                    validation_split=0.1)"
   ]
  },
  {
   "cell_type": "code",
   "execution_count": 32,
   "metadata": {},
   "outputs": [],
   "source": [
    "y_pred = model.predict(x_valid)"
   ]
  },
  {
   "cell_type": "code",
   "execution_count": 33,
   "metadata": {},
   "outputs": [],
   "source": [
    "from sklearn.metrics import confusion_matrix"
   ]
  },
  {
   "cell_type": "code",
   "execution_count": 34,
   "metadata": {},
   "outputs": [
    {
     "data": {
      "text/plain": [
       "array([[57,  4, 23,  1,  1,  7,  0,  1],\n",
       "       [ 5,  8,  9,  0,  0,  2,  0,  7],\n",
       "       [17,  4, 49,  0,  1, 10,  1,  5],\n",
       "       [ 5,  1,  2,  4,  1,  0,  0,  1],\n",
       "       [ 2,  0,  8,  0,  2,  0,  0,  0],\n",
       "       [ 5,  1,  5,  0,  0, 18,  0,  1],\n",
       "       [ 3,  0,  3,  0,  0,  0,  1,  0],\n",
       "       [11,  8,  7,  0,  0,  1,  0, 17]], dtype=int64)"
      ]
     },
     "execution_count": 34,
     "metadata": {},
     "output_type": "execute_result"
    }
   ],
   "source": [
    "confusion_matrix(np.argmax(valid_labels, axis=1), np.argmax(y_pred, axis=1))"
   ]
  },
  {
   "cell_type": "code",
   "execution_count": 35,
   "metadata": {},
   "outputs": [],
   "source": [
    "# Implement soft confusion matrix"
   ]
  },
  {
   "cell_type": "code",
   "execution_count": 36,
   "metadata": {},
   "outputs": [],
   "source": [
    "from utils import loss_function"
   ]
  },
  {
   "cell_type": "code",
   "execution_count": 37,
   "metadata": {},
   "outputs": [
    {
     "data": {
      "text/plain": [
       "2.4404377627173197"
      ]
     },
     "execution_count": 37,
     "metadata": {},
     "output_type": "execute_result"
    }
   ],
   "source": [
    "loss_function(np.argmax(valid_labels, axis=1), y_pred)"
   ]
  },
  {
   "cell_type": "code",
   "execution_count": null,
   "metadata": {},
   "outputs": [],
   "source": []
  }
 ],
 "metadata": {
  "kernelspec": {
   "display_name": "Python 3",
   "language": "python",
   "name": "python3"
  },
  "language_info": {
   "codemirror_mode": {
    "name": "ipython",
    "version": 3
   },
   "file_extension": ".py",
   "mimetype": "text/x-python",
   "name": "python",
   "nbconvert_exporter": "python",
   "pygments_lexer": "ipython3",
   "version": "3.7.4"
  }
 },
 "nbformat": 4,
 "nbformat_minor": 4
}