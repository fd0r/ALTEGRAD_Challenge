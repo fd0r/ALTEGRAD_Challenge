{
 "cells": [
  {
   "cell_type": "code",
   "execution_count": 1,
   "metadata": {},
   "outputs": [],
   "source": [
    "import os\n",
    "import csv\n",
    "from sklearn.feature_extraction.text import TfidfVectorizer\n",
    "from sklearn.linear_model import LogisticRegression\n",
    "import codecs\n",
    "from os import path\n",
    "import csv\n",
    "import networkx as nx\n",
    "import numpy as np\n",
    "from sklearn.linear_model import LogisticRegression\n",
    "from tqdm import tqdm"
   ]
  },
  {
   "cell_type": "code",
   "execution_count": 2,
   "metadata": {},
   "outputs": [
    {
     "name": "stderr",
     "output_type": "stream",
     "text": [
      "100%|██████████████████████████████████████████████████████████████████████████████| 2125/2125 [00:00<00:00, 1064607.74it/s]\n"
     ]
    },
    {
     "name": "stdout",
     "output_type": "stream",
     "text": [
      "28002\n",
      "319498\n"
     ]
    },
    {
     "name": "stderr",
     "output_type": "stream",
     "text": [
      "100%|███████████████████████████████████████████████████████████████████████████████| 28003/28003 [00:19<00:00, 1443.35it/s]\n",
      "100%|██████████████████████████████████████████████████████████████████████████████| 2125/2125 [00:00<00:00, 1062703.71it/s]\n"
     ]
    }
   ],
   "source": [
    "# Read training data\n",
    "with open(\"train.csv\", 'r') as f:\n",
    "    train_data = f.read().splitlines()\n",
    "\n",
    "train_hosts = list()\n",
    "y_train = list()\n",
    "for row in tqdm(train_data):\n",
    "    host, label = row.split(\",\")\n",
    "    train_hosts.append(host)\n",
    "    y_train.append(label.lower())\n",
    "\n",
    "# Read test data\n",
    "with open(\"test.csv\", 'r') as f:\n",
    "    test_hosts = f.read().splitlines()\n",
    "\n",
    "# Create a directed, weighted graph\n",
    "G = nx.read_weighted_edgelist('edgelist.txt', create_using=nx.DiGraph())\n",
    "\n",
    "print(G.number_of_nodes())\n",
    "print(G.number_of_edges())\n",
    "\n",
    "# Load the textual content of a set of webpages for each host into the dictionary \"text\". \n",
    "# The encoding parameter is required since the majority of our text is french.\n",
    "text = dict()\n",
    "filenames = os.listdir('text/text')\n",
    "for filename in tqdm(filenames):\n",
    "    with codecs.open(path.join('text/text/', filename), encoding='latin-1') as f: \n",
    "        text[filename] = f.read().replace(\"\\n\", \"\").lower()\n",
    "\n",
    "train_data = list()\n",
    "for host in tqdm(train_hosts):\n",
    "    if host in text:\n",
    "        train_data.append(text[host])\n",
    "    else:\n",
    "        train_data.append('')"
   ]
  },
  {
   "cell_type": "code",
   "execution_count": null,
   "metadata": {},
   "outputs": [],
   "source": []
  }
 ],
 "metadata": {
  "kernelspec": {
   "display_name": "Python 3",
   "language": "python",
   "name": "python3"
  },
  "language_info": {
   "codemirror_mode": {
    "name": "ipython",
    "version": 3
   },
   "file_extension": ".py",
   "mimetype": "text/x-python",
   "name": "python",
   "nbconvert_exporter": "python",
   "pygments_lexer": "ipython3",
   "version": "3.7.4"
  }
 },
 "nbformat": 4,
 "nbformat_minor": 4
}
