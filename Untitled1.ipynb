{
 "cells": [
  {
   "cell_type": "markdown",
   "metadata": {},
   "source": [
    "# Imports"
   ]
  },
  {
   "cell_type": "code",
   "execution_count": 1,
   "metadata": {},
   "outputs": [
    {
     "name": "stderr",
     "output_type": "stream",
     "text": [
      "Using TensorFlow backend.\n"
     ]
    }
   ],
   "source": [
    "import keras"
   ]
  },
  {
   "cell_type": "code",
   "execution_count": 2,
   "metadata": {},
   "outputs": [],
   "source": [
    "from utils import get_raw_data"
   ]
  },
  {
   "cell_type": "markdown",
   "metadata": {},
   "source": [
    "import pandas as pd\n",
    "import numpy as np\n",
    "import matplotlib.pyplot as plt\n",
    "%matplotlib inline"
   ]
  },
  {
   "cell_type": "markdown",
   "metadata": {},
   "source": [
    "# Get data"
   ]
  },
  {
   "cell_type": "code",
   "execution_count": 4,
   "metadata": {},
   "outputs": [
    {
     "name": "stderr",
     "output_type": "stream",
     "text": [
      "100%|███████████████████████████████████████████████████████████████████████████████| 2125/2125 [00:00<00:00, 709060.94it/s]\n",
      "100%|███████████████████████████████████████████████████████████████████████████████| 28003/28003 [00:23<00:00, 1216.90it/s]\n",
      "100%|██████████████████████████████████████████████████████████████████████████████| 2125/2125 [00:00<00:00, 1063464.50it/s]\n",
      "100%|█████████████████████████████████████████████████████████████████████████████████| 560/560 [00:00<00:00, 560976.89it/s]\n"
     ]
    }
   ],
   "source": [
    "train_data, test_data, y_train, G, train_hosts, test_hosts = get_raw_data()"
   ]
  },
  {
   "cell_type": "code",
   "execution_count": 268,
   "metadata": {},
   "outputs": [],
   "source": [
    "train = pd.DataFrame({\n",
    "    \"raw\": train_data,\n",
    "    \"label\": y_train\n",
    "})\n",
    "test = pd.DataFrame({\n",
    "    \"raw\": test_data\n",
    "})\n",
    "pad_token = \"<PAD>\"\n",
    "oov_token = \"<OOV>\""
   ]
  },
  {
   "cell_type": "markdown",
   "metadata": {},
   "source": [
    "# Labels"
   ]
  },
  {
   "cell_type": "code",
   "execution_count": 269,
   "metadata": {},
   "outputs": [],
   "source": [
    "labels = set(train[\"label\"])\n",
    "label_to_idx = {label: idx for idx, label in enumerate(labels)}\n",
    "func_label_to_idx = lambda x: label_to_idx[x]\n",
    "idx_to_label = {value: key for key, value in label_to_idx.items()}\n",
    "func_idx_to_label = lambda x: idx_to_label[x]"
   ]
  },
  {
   "cell_type": "code",
   "execution_count": 270,
   "metadata": {},
   "outputs": [],
   "source": [
    "train[\"label_id\"] = train[\"label\"].apply(func_label_to_idx) "
   ]
  },
  {
   "cell_type": "code",
   "execution_count": 271,
   "metadata": {},
   "outputs": [],
   "source": [
    "from sklearn.preprocessing import OneHotEncoder\n",
    "enc = OneHotEncoder()\n",
    "one_hot_labels = enc.fit_transform(np.array(train[\"label_id\"]).reshape(-1, 1))"
   ]
  },
  {
   "cell_type": "markdown",
   "metadata": {},
   "source": [
    "# Pre-processing"
   ]
  },
  {
   "cell_type": "code",
   "execution_count": 272,
   "metadata": {},
   "outputs": [],
   "source": [
    "class PreProcessor:\n",
    "    def __init__(self):\n",
    "        pass\n",
    "    \n",
    "    def fit(self, data, labels=None):\n",
    "        return self\n",
    "    \n",
    "    def transform(self, data, labels=None):\n",
    "        return data"
   ]
  },
  {
   "cell_type": "code",
   "execution_count": 273,
   "metadata": {},
   "outputs": [],
   "source": [
    "import re\n",
    "pattern = re.compile('[\\W_]+')\n",
    "clean_and_tokenize = lambda x: pattern.sub(' ', x).split()\n",
    "train[\"tokens\"] = train[\"raw\"].apply(clean_and_tokenize)\n",
    "test[\"tokens\"] = test[\"raw\"].apply(clean_and_tokenize)"
   ]
  },
  {
   "cell_type": "code",
   "execution_count": 274,
   "metadata": {},
   "outputs": [],
   "source": [
    "# TODO: Filter tokens based on idf\n",
    "from collections import Counter\n",
    "word_counter = Counter(token for tokens in train[\"tokens\"] for token in tokens)"
   ]
  },
  {
   "cell_type": "code",
   "execution_count": 275,
   "metadata": {},
   "outputs": [
    {
     "name": "stdout",
     "output_type": "stream",
     "text": [
      "312139 181873 130266\n"
     ]
    }
   ],
   "source": [
    "almost_uniques = [word for word, count in word_counter.items() if count <= 3]\n",
    "print(len(word_counter), len(almost_uniques), len(word_counter) - len(almost_uniques))"
   ]
  },
  {
   "cell_type": "code",
   "execution_count": 276,
   "metadata": {},
   "outputs": [],
   "source": [
    "filter_tokens = lambda tokens: [token for token in tokens if word_counter[token]>4]\n",
    "train[\"tokens\"] = train[\"tokens\"].apply(filter_tokens)"
   ]
  },
  {
   "cell_type": "markdown",
   "metadata": {},
   "source": [
    "# Word2Vec"
   ]
  },
  {
   "cell_type": "code",
   "execution_count": 277,
   "metadata": {},
   "outputs": [],
   "source": [
    "import gensim.models\n",
    "model = gensim.models.Word2Vec(sentences=train['tokens'])"
   ]
  },
  {
   "cell_type": "markdown",
   "metadata": {},
   "source": [
    "# Doc2Vec"
   ]
  },
  {
   "cell_type": "code",
   "execution_count": 307,
   "metadata": {},
   "outputs": [],
   "source": [
    "from gensim.models.doc2vec import Doc2Vec, TaggedDocument\n",
    "documents = [TaggedDocument(doc, [i]) for doc, i in zip(train['tokens'], train['label_id'])]\n",
    "# Try by taking the argmax of a prediction for the tests documents and add them like that\n",
    "\n",
    "documents = [TaggedDocument(doc, [i]) for i, doc in enumerate(list(train['tokens']) + list(test['tokens']))]"
   ]
  },
  {
   "cell_type": "code",
   "execution_count": 303,
   "metadata": {},
   "outputs": [],
   "source": [
    "from gensim.models.callbacks import CallbackAny2Vec\n",
    "import time\n",
    "class EpochLogger(CallbackAny2Vec):\n",
    "    '''Callback to log information about training'''\n",
    "    def __init__(self):\n",
    "        self.epoch = 0\n",
    "\n",
    "    def on_epoch_begin(self, model):\n",
    "        print(\"Epoch #{} start\".format(self.epoch), end=\"\\r\")\n",
    "        self.time = time.time()\n",
    "\n",
    "    def on_epoch_end(self, model):\n",
    "        print(\"Epoch #{} end (delta: {})\".format(self.epoch, time.time() - self.time), end=\"\\r\")\n",
    "        self.epoch += 1"
   ]
  },
  {
   "cell_type": "code",
   "execution_count": 308,
   "metadata": {},
   "outputs": [
    {
     "name": "stdout",
     "output_type": "stream",
     "text": [
      "Epoch #19 end (delta: 8.276163101196289)\r"
     ]
    }
   ],
   "source": [
    "model = Doc2Vec(documents, vector_size=256, window=8, min_count=3, workers=10, epochs=20, callbacks=[EpochLogger()])"
   ]
  },
  {
   "cell_type": "code",
   "execution_count": 309,
   "metadata": {},
   "outputs": [
    {
     "name": "stderr",
     "output_type": "stream",
     "text": [
      "100%|███████████████████████████████████████████████████████████████████████████████████| 2125/2125 [06:54<00:00,  2.79it/s]\n"
     ]
    }
   ],
   "source": [
    "from tqdm import tqdm\n",
    "X_train = np.array([model.infer_vector(doc) for doc in tqdm(train['tokens'])])"
   ]
  },
  {
   "cell_type": "code",
   "execution_count": 310,
   "metadata": {},
   "outputs": [],
   "source": [
    "np.save(\"doc2vec_xtrain.pkl\", np.array(X_train))"
   ]
  },
  {
   "cell_type": "code",
   "execution_count": 311,
   "metadata": {},
   "outputs": [
    {
     "name": "stderr",
     "output_type": "stream",
     "text": [
      "100%|█████████████████████████████████████████████████████████████████████████████████████| 560/560 [01:43<00:00,  5.43it/s]\n"
     ]
    }
   ],
   "source": [
    "X_test = np.array([model.infer_vector(doc) for doc in tqdm(test['tokens'])])"
   ]
  },
  {
   "cell_type": "code",
   "execution_count": 312,
   "metadata": {},
   "outputs": [],
   "source": [
    "np.save(\"doc2vec_xtest.pkl\", np.array(X_test))"
   ]
  },
  {
   "cell_type": "markdown",
   "metadata": {},
   "source": [
    "# Back to preprocessing"
   ]
  },
  {
   "cell_type": "code",
   "execution_count": 237,
   "metadata": {},
   "outputs": [],
   "source": [
    "vocab = set(word for tokens in train[\"tokens\"] for word in tokens)\n",
    "vocab.add(pad_token)\n",
    "vocab.add(oov_token)"
   ]
  },
  {
   "cell_type": "code",
   "execution_count": 238,
   "metadata": {},
   "outputs": [
    {
     "data": {
      "image/png": "[encoded data removed]",
      "text/plain": [
       "<Figure size 432x288 with 1 Axes>"
      ]
     },
     "metadata": {
      "needs_background": "light"
     },
     "output_type": "display_data"
    },
    {
     "name": "stdout",
     "output_type": "stream",
     "text": [
      "0.9068235294117647\n"
     ]
    },
    {
     "data": {
      "image/png": "[encoded data removed]",
      "text/plain": [
       "<Figure size 432x288 with 1 Axes>"
      ]
     },
     "metadata": {
      "needs_background": "light"
     },
     "output_type": "display_data"
    },
    {
     "name": "stdout",
     "output_type": "stream",
     "text": [
      "0.9178571428571428\n"
     ]
    }
   ],
   "source": [
    "threshold = 20000\n",
    "hist = train[\"tokens\"].apply(len).hist(bins=100)\n",
    "plt.vlines([20000], [0], [hist.viewLim._points[1][1]])\n",
    "plt.show()\n",
    "plt.close()\n",
    "print(np.sum(train[\"tokens\"].apply(len)<20000)/ len(train[\"tokens\"]))\n",
    "hist = test[\"tokens\"].apply(len).hist(bins=100)\n",
    "plt.vlines([20000], [0], [hist.viewLim._points[1][1]])\n",
    "plt.show()\n",
    "plt.close()\n",
    "print(np.sum(test[\"tokens\"].apply(len)<20000)/ len(test[\"tokens\"]))"
   ]
  },
  {
   "cell_type": "code",
   "execution_count": 239,
   "metadata": {},
   "outputs": [],
   "source": [
    "truncate = lambda li: li[:threshold]\n",
    "train['tokens'] = train[\"tokens\"].apply(truncate)\n",
    "test['tokens'] = test[\"tokens\"].apply(truncate)"
   ]
  },
  {
   "cell_type": "code",
   "execution_count": 240,
   "metadata": {},
   "outputs": [],
   "source": [
    "pad = lambda li: li + [pad_token]*(threshold - len(li))\n",
    "train['tokens'] = train['tokens'].apply(pad)\n",
    "test['tokens'] = test['tokens'].apply(pad)"
   ]
  },
  {
   "cell_type": "code",
   "execution_count": 241,
   "metadata": {},
   "outputs": [],
   "source": [
    "word_to_idx = {token: idx for idx, token in enumerate(vocab)}"
   ]
  },
  {
   "cell_type": "code",
   "execution_count": 242,
   "metadata": {},
   "outputs": [],
   "source": [
    "indexization = lambda tokens: [word_to_idx.get(token, word_to_idx[\"<OOV>\"]) for token in tokens] if tokens else [\"<OOV>\"]"
   ]
  },
  {
   "cell_type": "code",
   "execution_count": 243,
   "metadata": {},
   "outputs": [],
   "source": [
    "idx_to_word = {idx: token for token, idx in word_to_idx.items()}"
   ]
  },
  {
   "cell_type": "code",
   "execution_count": 244,
   "metadata": {},
   "outputs": [],
   "source": [
    "wordization = lambda ids: [idx_to_word[idx] for idx in ids]"
   ]
  },
  {
   "cell_type": "code",
   "execution_count": 245,
   "metadata": {},
   "outputs": [],
   "source": [
    "train[\"tokens_id\"] = train[\"tokens\"].apply(indexization)\n",
    "test[\"tokens_id\"] = test[\"tokens\"].apply(indexization)"
   ]
  },
  {
   "cell_type": "code",
   "execution_count": 249,
   "metadata": {},
   "outputs": [],
   "source": [
    "#Possible data augmentation?"
   ]
  },
  {
   "cell_type": "code",
   "execution_count": 253,
   "metadata": {},
   "outputs": [],
   "source": [
    "from keras.layers import Input, Embedding, LSTM, Dense\n",
    "from keras.models import Model\n",
    "import numpy as np\n",
    "\n",
    "np.random.seed(0)  \n",
    "embedding_size = 512\n",
    "main_input = Input(shape=(threshold,), dtype='int32', name='main_input')\n",
    "x = Embedding(output_dim=embedding_size, input_dim=len(vocab), input_length=threshold)(main_input)\n",
    "lstm_out = LSTM(32)(x)\n",
    "#auxiliary_input = Input(shape=(5,), name='aux_input')\n",
    "#x = keras.layers.concatenate([lstm_out, auxiliary_input])\n",
    "# We stack a deep densely-connected network on top\n",
    "x = Dense(64, activation='relu')(lstm_out)\n",
    "x = Dense(64, activation='relu')(x)\n",
    "x = Dense(64, activation='relu')(x)\n",
    "# And finally we add the main logistic regression layer\n",
    "main_output = Dense(len(labels), activation='softmax', name='main_output')(x)\n",
    "#model = Model(inputs=[main_input, auxiliary_input], outputs=[main_output, auxiliary_output])\n",
    "model = Model(inputs=[main_input], outputs=[main_output])\n",
    "# model.compile(optimizer='rmsprop', loss='binary_crossentropy',\n",
    "#               loss_weights=[1., 0.2])\n",
    "model.compile(optimizer='rmsprop', loss='categorical_crossentropy', metrics=[\"acc\"])"
   ]
  },
  {
   "cell_type": "code",
   "execution_count": 251,
   "metadata": {},
   "outputs": [],
   "source": [
    "tokens_id = np.array(list(train[\"tokens_id\"]))"
   ]
  },
  {
   "cell_type": "code",
   "execution_count": null,
   "metadata": {},
   "outputs": [
    {
     "name": "stderr",
     "output_type": "stream",
     "text": [
      "D:\\Programmes\\Anaconda\\lib\\site-packages\\tensorflow_core\\python\\framework\\indexed_slices.py:433: UserWarning: Converting sparse IndexedSlices to a dense Tensor of unknown shape. This may consume a large amount of memory.\n",
      "  \"Converting sparse IndexedSlices to a dense Tensor of unknown shape. \"\n"
     ]
    },
    {
     "name": "stdout",
     "output_type": "stream",
     "text": [
      "Train on 1700 samples, validate on 425 samples\n",
      "Epoch 1/5\n",
      " 416/1700 [======>.......................] - ETA: 55:51 - loss: 2.0803 - acc: 0.12 - ETA: 54:19 - loss: 2.0638 - acc: 0.23 - ETA: 53:13 - loss: 2.0555 - acc: 0.26 - ETA: 51:43 - loss: 2.0475 - acc: 0.28 - ETA: 50:48 - loss: 2.0131 - acc: 0.31 - ETA: 49:30 - loss: 2.0050 - acc: 0.32 - ETA: 48:26 - loss: 2.0192 - acc: 0.32 - ETA: 48:02 - loss: 2.0053 - acc: 0.33 - ETA: 47:58 - loss: 1.9920 - acc: 0.33 - ETA: 47:39 - loss: 1.9949 - acc: 0.32 - ETA: 47:17 - loss: 1.9988 - acc: 0.32 - ETA: 46:39 - loss: 1.9882 - acc: 0.32 - ETA: 45:53 - loss: 1.9874 - acc: 0.3221"
     ]
    }
   ],
   "source": [
    "model.fit(tokens_id, one_hot_labels, validation_split=0.2, epochs=5)"
   ]
  },
  {
   "cell_type": "code",
   "execution_count": 255,
   "metadata": {},
   "outputs": [
    {
     "name": "stdout",
     "output_type": "stream",
     "text": [
      "Model: \"model_5\"\n",
      "_________________________________________________________________\n",
      "Layer (type)                 Output Shape              Param #   \n",
      "=================================================================\n",
      "main_input (InputLayer)      (None, 20000)             0         \n",
      "_________________________________________________________________\n",
      "embedding_5 (Embedding)      (None, 20000, 512)        54446080  \n",
      "_________________________________________________________________\n",
      "lstm_5 (LSTM)                (None, 32)                69760     \n",
      "_________________________________________________________________\n",
      "dense_13 (Dense)             (None, 64)                2112      \n",
      "_________________________________________________________________\n",
      "dense_14 (Dense)             (None, 64)                4160      \n",
      "_________________________________________________________________\n",
      "dense_15 (Dense)             (None, 64)                4160      \n",
      "_________________________________________________________________\n",
      "main_output (Dense)          (None, 8)                 520       \n",
      "=================================================================\n",
      "Total params: 54,526,792\n",
      "Trainable params: 54,526,792\n",
      "Non-trainable params: 0\n",
      "_________________________________________________________________\n"
     ]
    }
   ],
   "source": [
    "model.summary()"
   ]
  },
  {
   "cell_type": "code",
   "execution_count": null,
   "metadata": {},
   "outputs": [],
   "source": []
  },
  {
   "cell_type": "code",
   "execution_count": null,
   "metadata": {},
   "outputs": [],
   "source": []
  }
 ],
 "metadata": {
  "kernelspec": {
   "display_name": "Python 3",
   "language": "python",
   "name": "python3"
  },
  "language_info": {
   "codemirror_mode": {
    "name": "ipython",
    "version": 3
   },
   "file_extension": ".py",
   "mimetype": "text/x-python",
   "name": "python",
   "nbconvert_exporter": "python",
   "pygments_lexer": "ipython3",
   "version": "3.7.4"
  }
 },
 "nbformat": 4,
 "nbformat_minor": 4
}
