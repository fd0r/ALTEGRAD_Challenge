{
 "cells": [
  {
   "cell_type": "code",
   "execution_count": 1,
   "metadata": {},
   "outputs": [
    {
     "name": "stderr",
     "output_type": "stream",
     "text": [
      "100%|██████████████████████████████████████████████████████████████████████████████| 2125/2125 [00:00<00:00, 2128706.95it/s]\n",
      "100%|███████████████████████████████████████████████████████████████████████████████| 28003/28003 [00:22<00:00, 1228.83it/s]\n",
      "100%|███████████████████████████████████████████████████████████████████████████████| 2125/2125 [00:00<00:00, 708609.95it/s]\n",
      "100%|█████████████████████████████████████████████████████████████████████████████████| 560/560 [00:00<00:00, 558177.34it/s]\n"
     ]
    }
   ],
   "source": [
    "from utils import loss_function, get_raw_data\n",
    "train_data, test_data, y_train, G, train_hosts, test_hosts = get_raw_data('utf-8', errors=\"ignore\")"
   ]
  },
  {
   "cell_type": "code",
   "execution_count": null,
   "metadata": {},
   "outputs": [],
   "source": []
  },
  {
   "cell_type": "code",
   "execution_count": null,
   "metadata": {},
   "outputs": [],
   "source": []
  }
 ],
 "metadata": {
  "kernelspec": {
   "display_name": "Python 3",
   "language": "python",
   "name": "python3"
  },
  "language_info": {
   "codemirror_mode": {
    "name": "ipython",
    "version": 3
   },
   "file_extension": ".py",
   "mimetype": "text/x-python",
   "name": "python",
   "nbconvert_exporter": "python",
   "pygments_lexer": "ipython3",
   "version": "3.7.4"
  }
 },
 "nbformat": 4,
 "nbformat_minor": 4
}
